{
 "cells": [
  {
   "cell_type": "markdown",
   "metadata": {},
   "source": [
    "In K-means algorithm we aim to minimize the below **objective function** with respect to r and μ, where r are the coefficients which indicate the cluster that each datapoint belongs to, x are the datapoints and μ are the cluster centers :"
   ]
  },
  {
   "cell_type": "markdown",
   "metadata": {},
   "source": [
    "![kmeans_objective](https://user-images.githubusercontent.com/55101427/89711984-75a08f80-d996-11ea-9c20-7922eb3f5ec6.png)"
   ]
  },
  {
   "cell_type": "markdown",
   "metadata": {},
   "source": [
    "The algorithm is based on the following two update steps which iterate  until convergence is achieved (ie. until centers do not change \"much\"). \n",
    "\n",
    "The below formula determines the **\"clusters update step\"** by assigning each point to the cluster with the closest center. "
   ]
  },
  {
   "cell_type": "markdown",
   "metadata": {},
   "source": [
    "![kmeans_clustersupdate](https://user-images.githubusercontent.com/55101427/89712026-d0d28200-d996-11ea-89c0-2ee70bc4af62.png)"
   ]
  },
  {
   "cell_type": "markdown",
   "metadata": {},
   "source": [
    "The below formula determines the **\"centers update step\"** by computing the mean of all points in the cluster. Note that the denominator is equal to the number of points assigned to cluster k."
   ]
  },
  {
   "cell_type": "markdown",
   "metadata": {},
   "source": [
    "![kmeans_centersupdate](https://user-images.githubusercontent.com/55101427/89712037-e0ea6180-d996-11ea-8910-6145d7f5f211.png)"
   ]
  },
  {
   "cell_type": "code",
   "execution_count": 1,
   "metadata": {},
   "outputs": [],
   "source": [
    "import numpy as np\n",
    "import matplotlib.pyplot as plt"
   ]
  },
  {
   "cell_type": "code",
   "execution_count": 2,
   "metadata": {},
   "outputs": [],
   "source": [
    "def kmeans(X,K):\n",
    "    \n",
    "    '''\n",
    "    inputs : X = 2-dim array dataset\n",
    "             K = the number of clusters\n",
    "    outputs : mu_new = the final cluster centers\n",
    "              labels = labels of the datapoints \n",
    "              fig = figure showing the dataset, the locations of the initially randomly chosen cluster centers and \n",
    "                    the locations of the final cluster centers determinded by the algorithm\n",
    "    '''\n",
    "    r = np.zeros(shape = (X[:,0].size, K))\n",
    "    mu_old = np.zeros((K,2))\n",
    "    \n",
    "    # choose random cluster centers\n",
    "    xmax = max(abs(X[:,0]))\n",
    "    ymax = max(abs(X[:,1]))\n",
    "    l = max(xmax, ymax)\n",
    "    \n",
    "    side_length = round(l)\n",
    "    \n",
    "    z = np.random.choice( np.concatenate((np.random.random(3),-np.random.random(3))) ,3, replace = False)\n",
    "    cx = z*side_length\n",
    "\n",
    "    w = np.random.choice( np.concatenate((np.random.random(3),-np.random.random(3))) ,3, replace = False)\n",
    "    cy = w*side_length\n",
    "\n",
    "    cx = np.reshape(cx, (cx.size,1))\n",
    "    cy = np.reshape(cy, (cy.size,1))\n",
    "    mu_random = np.concatenate((cx,cy), axis = 1)\n",
    "    mu_new = np.concatenate((cx,cy), axis = 1)\n",
    "    \n",
    "    while np.linalg.norm(mu_new - mu_old) > 0.0001 :\n",
    "    \n",
    "        mu_old = mu_new\n",
    "\n",
    "        # update clusters - see formula above\n",
    "        for i in range(X.shape[0]) :\n",
    "            ar = np.array([])\n",
    "            for k in range(K) :\n",
    "                ar = np.append(ar,np.linalg.norm(X[i]-mu_new[k]))\n",
    "            j = np.argmin(ar)\n",
    "            r[i][j] = 1\n",
    "\n",
    "        # update centers - see formula above\n",
    "        for i in range(K) :\n",
    "            if np.sum(r[:,i]) == 0 :\n",
    "                continue\n",
    "            else :\n",
    "                v = np.reshape(r[:,i], (r[:,i].size,1))\n",
    "                mu_new[i] = sum(v*X) / np.sum(r[:,i])\n",
    "    \n",
    "    labels = np.where(r==1)[1]\n",
    "        \n",
    "    return mu_random, mu_new, labels"
   ]
  },
  {
   "cell_type": "markdown",
   "metadata": {},
   "source": [
    "#### An application that shows the algorithm's main disadvantage"
   ]
  },
  {
   "cell_type": "code",
   "execution_count": 3,
   "metadata": {},
   "outputs": [],
   "source": [
    "from sklearn.datasets import make_moons"
   ]
  },
  {
   "cell_type": "code",
   "execution_count": 4,
   "metadata": {},
   "outputs": [
    {
     "data": {
      "text/plain": [
       "<matplotlib.legend.Legend at 0x2ac0bc8f908>"
      ]
     },
     "execution_count": 4,
     "metadata": {},
     "output_type": "execute_result"
    },
    {
     "data": {
      "image/png": "[encoded data removed]",
      "text/plain": [
       "<Figure size 576x432 with 1 Axes>"
      ]
     },
     "metadata": {
      "needs_background": "light"
     },
     "output_type": "display_data"
    }
   ],
   "source": [
    "moons = make_moons(n_samples=1000, noise=.05)\n",
    "dataset_1 = moons[0]\n",
    "clf = kmeans(dataset_1,3)\n",
    "labels = clf[2]\n",
    "x0 = dataset_1[labels==0] ; x1 = dataset_1[labels==1] ;    x2 = dataset_1[labels==2]\n",
    "\n",
    "plt.figure(figsize=(8,6))\n",
    "plt.scatter (x0[:,0],x0[:,1], color = 'y')\n",
    "plt.scatter (x1[:,0],x1[:,1], color = 'lightblue')\n",
    "plt.scatter (x2[:,0],x2[:,1], color = 'yellow')\n",
    "i_cen = clf[0]\n",
    "f_cen = clf[1] \n",
    "plt.scatter(i_cen[:,0], i_cen[:,1], marker='*', color = 'blue')\n",
    "plt.scatter(f_cen[:,0], f_cen[:,1], marker='*', color = 'black')\n",
    "plt.legend(('class 0',' class 1',' class 2', 'initial random cluster centers', 'final cluster centers'), loc='best')"
   ]
  },
  {
   "cell_type": "code",
   "execution_count": 5,
   "metadata": {},
   "outputs": [
    {
     "data": {
      "text/plain": [
       "<matplotlib.legend.Legend at 0x2ac0bfb7780>"
      ]
     },
     "execution_count": 5,
     "metadata": {},
     "output_type": "execute_result"
    },
    {
     "data": {
      "image/png": "[encoded data removed]",
      "text/plain": [
       "<Figure size 576x432 with 1 Axes>"
      ]
     },
     "metadata": {
      "needs_background": "light"
     },
     "output_type": "display_data"
    }
   ],
   "source": [
    "dataset_2 = moons[0]\n",
    "clf = kmeans(dataset_2,3)\n",
    "labels = clf[2]\n",
    "x0 = dataset_2[labels==0] ; x1 = dataset_2[labels==1] ;    x2 = dataset_2[labels==2]\n",
    "\n",
    "plt.figure(figsize=(8,6))\n",
    "plt.scatter (x0[:,0],x0[:,1], color = 'y')\n",
    "plt.scatter (x1[:,0],x1[:,1], color = 'lightblue')\n",
    "plt.scatter (x2[:,0],x2[:,1], color = 'yellow')\n",
    "i_cen = clf[0]\n",
    "f_cen = clf[1] \n",
    "plt.scatter(i_cen[:,0], i_cen[:,1], marker='*', color = 'blue')\n",
    "plt.scatter(f_cen[:,0], f_cen[:,1], marker='*', color = 'black')\n",
    "plt.legend(('class 0',' class 1',' class 2', 'initial random cluster centers', 'final cluster centers'), loc='best')"
   ]
  },
  {
   "cell_type": "markdown",
   "metadata": {},
   "source": [
    "Above we see two applications of the k-means algorithm on the same dataset. The above graphs highlight the algorithm's main \n",
    "disadvantage(sensitinity) which is the the initial **random choise of the cluster centers**. More specifically in the first case we see that all three randomly chosen centers contribute into forming three clusters. On the other hand, in the second case we see that the **top left** randomly chosen center is so far away from all datapoints with respect to the other two centers so that it is impossible to contribute in forming clusters. The point stays in the same position until algorithm's convergence is achieved and in the end we get only two clusters even if three were initially required."
   ]
  },
  {
   "cell_type": "code",
   "execution_count": null,
   "metadata": {},
   "outputs": [],
   "source": []
  },
  {
   "cell_type": "code",
   "execution_count": null,
   "metadata": {},
   "outputs": [],
   "source": []
  },
  {
   "cell_type": "code",
   "execution_count": 6,
   "metadata": {
    "collapsed": true
   },
   "outputs": [
    {
     "data": {
      "text/plain": [
       "\"\\ndef kmeans(X,K):\\n    \\n    '''\\n    inputs : X = 2-dim array dataset\\n             K = the number of clusters\\n    outputs : mu_new = the final cluster centers\\n              labels = labels of the datapoints \\n              fig = figure showing the dataset, the locations of the initially randomly chosen cluster centers and \\n                    the locations of the final cluster centers determinded by the algorithm\\n    '''\\n    r = np.zeros(shape = (X[:,0].size, K))\\n    mu_old = np.zeros((K,2))\\n    \\n    # choose random cluster centers\\n    xmax = max(abs(X[:,0]))\\n    ymax = max(abs(X[:,1]))\\n    l = max(xmax, ymax)\\n    \\n    side_length = round(l)\\n    \\n    z = np.random.choice( np.concatenate((np.random.random(3),-np.random.random(3))) ,3, replace = False)\\n    cx = z*side_length\\n\\n    w = np.random.choice( np.concatenate((np.random.random(3),-np.random.random(3))) ,3, replace = False)\\n    cy = w*side_length\\n\\n    cx = np.reshape(cx, (cx.size,1))\\n    cy = np.reshape(cy, (cy.size,1))\\n    mu_random = np.concatenate((cx,cy), axis = 1)\\n    mu_new = np.concatenate((cx,cy), axis = 1)\\n    \\n    while np.linalg.norm(mu_new - mu_old) > 0.0001 :\\n    \\n        mu_old = mu_new\\n\\n        # update clusters - see formula above\\n        for i in range(X.shape[0]) :\\n            ar = np.array([])\\n            for k in range(K) :\\n                ar = np.append(ar,np.linalg.norm(X[i]-mu_new[k]))\\n            j = np.argmin(ar)\\n            r[i][j] = 1\\n\\n        # update centers - see formula above\\n        for i in range(K) :\\n            if np.sum(r[:,i]) == 0 :\\n                continue\\n            else :\\n                v = np.reshape(r[:,i], (r[:,i].size,1))\\n                mu_new[i] = sum(v*X) / np.sum(r[:,i])\\n    \\n    labels = np.where(r==1)[1]\\n    #labels = np.reshape(labels,(labels.size,1))\\n    \\n    fig, ax = plt.subplots()\\n    ax.scatter(X[:,0], X[:,1], color = 'lightblue')\\n    ax.scatter(mu_random[:,0], mu_random[:,1], color = 'black', marker = '*', label='initial random cluster centers')\\n    ax.scatter(mu_new[:,0], mu_new[:,1], color = 'blue', marker = '*', label='final cluster centers')\\n    ax.legend(loc='best')\\n    plt.close()\\n        \\n    return mu_new, labels, fig\\n\""
      ]
     },
     "execution_count": 6,
     "metadata": {},
     "output_type": "execute_result"
    }
   ],
   "source": [
    "# below we see a slight variation in the kmeans function. The difference lies in the output of the functions.\n",
    "# this version is not included in github page.. but I wanted to keep in here as the returned figure is interesting\n",
    "\n",
    "\"\"\"\n",
    "def kmeans(X,K):\n",
    "    \n",
    "    '''\n",
    "    inputs : X = 2-dim array dataset\n",
    "             K = the number of clusters\n",
    "    outputs : mu_new = the final cluster centers\n",
    "              labels = labels of the datapoints \n",
    "              fig = figure showing the dataset, the locations of the initially randomly chosen cluster centers and \n",
    "                    the locations of the final cluster centers determinded by the algorithm\n",
    "    '''\n",
    "    r = np.zeros(shape = (X[:,0].size, K))\n",
    "    mu_old = np.zeros((K,2))\n",
    "    \n",
    "    # choose random cluster centers\n",
    "    xmax = max(abs(X[:,0]))\n",
    "    ymax = max(abs(X[:,1]))\n",
    "    l = max(xmax, ymax)\n",
    "    \n",
    "    side_length = round(l)\n",
    "    \n",
    "    z = np.random.choice( np.concatenate((np.random.random(3),-np.random.random(3))) ,3, replace = False)\n",
    "    cx = z*side_length\n",
    "\n",
    "    w = np.random.choice( np.concatenate((np.random.random(3),-np.random.random(3))) ,3, replace = False)\n",
    "    cy = w*side_length\n",
    "\n",
    "    cx = np.reshape(cx, (cx.size,1))\n",
    "    cy = np.reshape(cy, (cy.size,1))\n",
    "    mu_random = np.concatenate((cx,cy), axis = 1)\n",
    "    mu_new = np.concatenate((cx,cy), axis = 1)\n",
    "    \n",
    "    while np.linalg.norm(mu_new - mu_old) > 0.0001 :\n",
    "    \n",
    "        mu_old = mu_new\n",
    "\n",
    "        # update clusters - see formula above\n",
    "        for i in range(X.shape[0]) :\n",
    "            ar = np.array([])\n",
    "            for k in range(K) :\n",
    "                ar = np.append(ar,np.linalg.norm(X[i]-mu_new[k]))\n",
    "            j = np.argmin(ar)\n",
    "            r[i][j] = 1\n",
    "\n",
    "        # update centers - see formula above\n",
    "        for i in range(K) :\n",
    "            if np.sum(r[:,i]) == 0 :\n",
    "                continue\n",
    "            else :\n",
    "                v = np.reshape(r[:,i], (r[:,i].size,1))\n",
    "                mu_new[i] = sum(v*X) / np.sum(r[:,i])\n",
    "    \n",
    "    labels = np.where(r==1)[1]\n",
    "    #labels = np.reshape(labels,(labels.size,1))\n",
    "    \n",
    "    fig, ax = plt.subplots()\n",
    "    ax.scatter(X[:,0], X[:,1], color = 'lightblue')\n",
    "    ax.scatter(mu_random[:,0], mu_random[:,1], color = 'black', marker = '*', label='initial random cluster centers')\n",
    "    ax.scatter(mu_new[:,0], mu_new[:,1], color = 'blue', marker = '*', label='final cluster centers')\n",
    "    ax.legend(loc='best')\n",
    "    plt.close()\n",
    "        \n",
    "    return mu_new, labels, fig\n",
    "\"\"\""
   ]
  },
  {
   "cell_type": "code",
   "execution_count": null,
   "metadata": {},
   "outputs": [],
   "source": []
  }
 ],
 "metadata": {
  "kernelspec": {
   "display_name": "Python 3",
   "language": "python",
   "name": "python3"
  },
  "language_info": {
   "codemirror_mode": {
    "name": "ipython",
    "version": 3
   },
   "file_extension": ".py",
   "mimetype": "text/x-python",
   "name": "python",
   "nbconvert_exporter": "python",
   "pygments_lexer": "ipython3",
   "version": "3.7.3"
  }
 },
 "nbformat": 4,
 "nbformat_minor": 2
}
