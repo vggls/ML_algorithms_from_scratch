{
 "cells": [
  {
   "cell_type": "markdown",
   "metadata": {},
   "source": [
    "## Part I:  Decision stumps"
   ]
  },
  {
   "cell_type": "code",
   "execution_count": 1,
   "metadata": {},
   "outputs": [],
   "source": [
    "import numpy as np\n",
    "import pandas as pd"
   ]
  },
  {
   "cell_type": "code",
   "execution_count": 2,
   "metadata": {},
   "outputs": [],
   "source": [
    "class DecisionStump:\n",
    "    def __init__(self, threshold, feature, direction):\n",
    "        self.threshold = threshold\n",
    "        self.feature = feature\n",
    "        self.direction = direction\n",
    "    \n",
    "    def predict(self, X):\n",
    "        if self.direction == 'over':\n",
    "            return X[:, self.feature] > self.threshold\n",
    "        else:\n",
    "            return X[:, self.feature] < self.threshold"
   ]
  },
  {
   "cell_type": "code",
   "execution_count": 3,
   "metadata": {},
   "outputs": [],
   "source": [
    "def decision_stump_set(X_train, y_train, w_train, X_test):\n",
    "    classifier = None\n",
    "    thresholds = [np.linspace(X_train[:, i].min(), X_train[:, i].max(), 10) for i in range(X_train.shape[1])]\n",
    "    \n",
    "    best = 0\n",
    "    for i in range(10):\n",
    "        for feature in range(X_train.shape[1]):\n",
    "            for direction in ['over', 'under']:\n",
    "                if direction == 'over':\n",
    "                    y_pred = X_train[:, feature] > thresholds[feature][i] # predict\n",
    "                    score = np.dot(w_train, (y_pred == y_train))          # evaluate\n",
    "                    \n",
    "                    if score > best:\n",
    "                        best = score\n",
    "                        classifier = DecisionStump(thresholds[feature][i], feature, direction)\n",
    "                else:\n",
    "                    y_pred = X_train[:, feature] < thresholds[feature][i] # predict\n",
    "                    score = np.dot(w_train, (y_pred == y_train))          # evaluate\n",
    "                    \n",
    "                    if score > best:\n",
    "                        best = score\n",
    "                        classifier = DecisionStump(thresholds[feature][i], feature, direction)\n",
    "    \n",
    "    correct_train = classifier.predict(X_train)\n",
    "    y_pred = classifier.predict(X_test)\n",
    "    \n",
    "    return correct_train, y_pred"
   ]
  },
  {
   "cell_type": "markdown",
   "metadata": {},
   "source": [
    "To test our model we need a dataset. For convinience we download the [Iris Dataset](https://archive.ics.uci.edu/ml/datasets/iris) and discard the first of the three classes:"
   ]
  },
  {
   "cell_type": "code",
   "execution_count": 4,
   "metadata": {},
   "outputs": [],
   "source": [
    "from sklearn.model_selection import train_test_split\n",
    "\n",
    "# Obtain data\n",
    "data = pd.read_csv('iris-data.csv')\n",
    "data = data[50:]\n",
    "\n",
    "# Split dataset and convert classes to 0 and 1\n",
    "X = data.iloc[:, :4]\n",
    "y = data.iloc[:, 4] == 'Iris-versicolor'\n",
    "X_train, X_test, y_train, y_test = train_test_split(X, y, test_size=0.2)\n",
    "\n",
    "# Convert pandas dataframes to numpy arrays\n",
    "X_train = X_train.to_numpy()\n",
    "y_train = y_train.to_numpy()\n",
    "X_test = X_test.to_numpy()\n",
    "y_test = y_test.to_numpy()"
   ]
  },
  {
   "cell_type": "code",
   "execution_count": 5,
   "metadata": {},
   "outputs": [
    {
     "name": "stdout",
     "output_type": "stream",
     "text": [
      "Our classifier has a train accuracy of 93.8% and a test accuracy of 95.0%\n"
     ]
    }
   ],
   "source": [
    "N = X_train.shape[0]\n",
    "w_train = 1/N * np.ones((N, )) # let's use uniform weights\n",
    "\n",
    "correct_train, y_pred = decision_stump_set(X_train, y_train, w_train, X_test)\n",
    "\n",
    "train_acc = 100*np.dot(w_train, (correct_train == y_train))\n",
    "test_acc  = 100*np.mean(y_pred == y_test)\n",
    "print('Our classifier has a train accuracy of {:.1f}% and a test accuracy of {:.1f}%'.format(train_acc, test_acc))"
   ]
  },
  {
   "cell_type": "markdown",
   "metadata": {},
   "source": [
    "## Part II: AdaBoost"
   ]
  },
  {
   "cell_type": "markdown",
   "metadata": {},
   "source": [
    "In this part of the exercise we implement the AdaBoost algorithm. The implementation is written below:"
   ]
  },
  {
   "cell_type": "code",
   "execution_count": 6,
   "metadata": {},
   "outputs": [],
   "source": [
    "def adaboost(X_train, y_train, X_test, iters):\n",
    "    N = X_train.shape[0]\n",
    "    M = X_test.shape[0]\n",
    "    w_train = 1/N * np.ones((N, ))\n",
    "    \n",
    "    y_pred_final = np.zeros((M, ))\n",
    "    for i in range(iters):\n",
    "        # predict\n",
    "        correct_train, y_pred = decision_stump_set(X_train, y_train, w_train, X_test)\n",
    "        \n",
    "        # compute\n",
    "        J = np.dot(w_train, (correct_train != y_train))\n",
    "        epsilon = J / sum(w_train)\n",
    "        alpha = np.log((1-epsilon) / epsilon)\n",
    "        \n",
    "        # update\n",
    "        w_train = w_train * np.exp(alpha * (correct_train != y_train))\n",
    "        \n",
    "        # predict\n",
    "        y_pred_final += alpha * y_pred\n",
    "        \n",
    "    return (y_pred_final > 0) # sgn(y_pred_final)\n",
    "        "
   ]
  },
  {
   "cell_type": "markdown",
   "metadata": {},
   "source": [
    "Now it's time for some testing. But since we don't know the optimal number of iterations for the algorithm we will try 0 to 20 iterations and plot accuary."
   ]
  },
  {
   "cell_type": "code",
   "execution_count": 7,
   "metadata": {},
   "outputs": [
    {
     "data": {
      "text/plain": [
       "Text(0, 0.5, 'Accuaracy (%)')"
      ]
     },
     "execution_count": 7,
     "metadata": {},
     "output_type": "execute_result"
    },
    {
     "data": {
      "image/png": "[encoded data removed]",
      "text/plain": [
       "<Figure size 432x288 with 1 Axes>"
      ]
     },
     "metadata": {
      "needs_background": "light"
     },
     "output_type": "display_data"
    }
   ],
   "source": [
    "from matplotlib import pyplot as plt\n",
    "\n",
    "acc = np.zeros(20, )\n",
    "for M in range(20):\n",
    "    y_pred_final = adaboost(X_train, y_train, X_test, M)\n",
    "    acc[M] = np.mean(y_pred_final == y_test)\n",
    "    \n",
    "plt.plot(acc)\n",
    "plt.title('Classification with AdaBoost')\n",
    "plt.xlabel('iterations')\n",
    "plt.ylabel('Accuaracy (%)')"
   ]
  },
  {
   "cell_type": "markdown",
   "metadata": {},
   "source": [
    "It's clear that we boost the performance only for 2 or 3 iterations of the algorithm from **85%** to **90%**"
   ]
  }
 ],
 "metadata": {
  "kernelspec": {
   "display_name": "Python 3",
   "language": "python",
   "name": "python3"
  },
  "language_info": {
   "codemirror_mode": {
    "name": "ipython",
    "version": 3
   },
   "file_extension": ".py",
   "mimetype": "text/x-python",
   "name": "python",
   "nbconvert_exporter": "python",
   "pygments_lexer": "ipython3",
   "version": "3.8.8"
  }
 },
 "nbformat": 4,
 "nbformat_minor": 4
}
